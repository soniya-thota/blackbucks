{
  "nbformat": 4,
  "nbformat_minor": 0,
  "metadata": {
    "colab": {
      "provenance": [],
      "authorship_tag": "ABX9TyOCTMK9nUByKqdlKooSg//4",
      "include_colab_link": true
    },
    "kernelspec": {
      "name": "python3",
      "display_name": "Python 3"
    },
    "language_info": {
      "name": "python"
    }
  },
  "cells": [
    {
      "cell_type": "markdown",
      "metadata": {
        "id": "view-in-github",
        "colab_type": "text"
      },
      "source": [
        "<a href=\"https://colab.research.google.com/github/soniya-thota/blackbucks/blob/main/day1-aiml.ipynb\" target=\"_parent\"><img src=\"https://colab.research.google.com/assets/colab-badge.svg\" alt=\"Open In Colab\"/></a>"
      ]
    },
    {
      "cell_type": "markdown",
      "source": [
        "#agenda\n",
        "1.variables\n",
        "\n",
        "2.data types\n",
        "\n",
        "3.operators\n",
        "\n",
        "4.deciusion making statements\n",
        "\n",
        "5.iterative loops\n",
        "\n",
        "6.functions\n",
        "\n",
        "7.file handling\n",
        "\n",
        "8.modules\n",
        "\n",
        "9.classes\n",
        "\n",
        "10.error handling"
      ],
      "metadata": {
        "id": "JJDFkdJ04PN6"
      }
    },
    {
      "cell_type": "code",
      "source": [
        "\"WE HAVE STARTED PYTHON BOOTCAMP TODAY\""
      ],
      "metadata": {
        "colab": {
          "base_uri": "https://localhost:8080/",
          "height": 35
        },
        "id": "swSD2ipV4wgs",
        "outputId": "8ca44840-6a26-43d0-bdb7-f7aa918902a2"
      },
      "execution_count": 2,
      "outputs": [
        {
          "output_type": "execute_result",
          "data": {
            "text/plain": [
              "'WE HAVE STARTED PYTHON BOOTCAMP TODAY'"
            ],
            "application/vnd.google.colaboratory.intrinsic+json": {
              "type": "string"
            }
          },
          "metadata": {},
          "execution_count": 2
        }
      ]
    },
    {
      "cell_type": "code",
      "source": [
        "20*3\n"
      ],
      "metadata": {
        "colab": {
          "base_uri": "https://localhost:8080/"
        },
        "id": "_7weWoH05Ntw",
        "outputId": "747e7de0-a235-4dd6-a7e2-eaf725d3d17e"
      },
      "execution_count": 3,
      "outputs": [
        {
          "output_type": "execute_result",
          "data": {
            "text/plain": [
              "60"
            ]
          },
          "metadata": {},
          "execution_count": 3
        }
      ]
    },
    {
      "cell_type": "code",
      "source": [
        "20\n"
      ],
      "metadata": {
        "colab": {
          "base_uri": "https://localhost:8080/"
        },
        "id": "G3WD8Rcn5WAk",
        "outputId": "06061b6a-e252-43a3-aac5-6dfd94e8f26a"
      },
      "execution_count": 4,
      "outputs": [
        {
          "output_type": "execute_result",
          "data": {
            "text/plain": [
              "20"
            ]
          },
          "metadata": {},
          "execution_count": 4
        }
      ]
    },
    {
      "cell_type": "code",
      "source": [
        "20-3"
      ],
      "metadata": {
        "colab": {
          "base_uri": "https://localhost:8080/"
        },
        "id": "rSdW9KU45Xwb",
        "outputId": "b1e2a445-65ca-4497-8115-bbdf36a3729b"
      },
      "execution_count": 5,
      "outputs": [
        {
          "output_type": "execute_result",
          "data": {
            "text/plain": [
              "17"
            ]
          },
          "metadata": {},
          "execution_count": 5
        }
      ]
    },
    {
      "cell_type": "markdown",
      "source": [
        "#PYTHON IS AN INTERACTIVE LANGUAGE"
      ],
      "metadata": {
        "id": "dn7f6l545cPt"
      }
    },
    {
      "cell_type": "markdown",
      "source": [
        "# variables\n",
        "variable is an identifier which points to the memory location and you can access location by the variable"
      ],
      "metadata": {
        "id": "VBzVMIpf5s8K"
      }
    },
    {
      "cell_type": "code",
      "source": [],
      "metadata": {
        "id": "SMtqzlmS9Qyb"
      },
      "execution_count": null,
      "outputs": []
    },
    {
      "cell_type": "code",
      "source": [
        "#creating a variable\n",
        "a=10\n",
        "type(a)"
      ],
      "metadata": {
        "colab": {
          "base_uri": "https://localhost:8080/"
        },
        "id": "-Tt5Egck6TnK",
        "outputId": "7fee010a-2f8d-4b95-856f-c2cb75475865"
      },
      "execution_count": 7,
      "outputs": [
        {
          "output_type": "execute_result",
          "data": {
            "text/plain": [
              "int"
            ]
          },
          "metadata": {},
          "execution_count": 7
        }
      ]
    },
    {
      "cell_type": "code",
      "source": [
        "a=10.5\n",
        "\n",
        "type(a)\n"
      ],
      "metadata": {
        "colab": {
          "base_uri": "https://localhost:8080/"
        },
        "id": "jXH2YWDx6aH8",
        "outputId": "f041a280-d216-4e24-bc2b-b130dd0a0646"
      },
      "execution_count": 10,
      "outputs": [
        {
          "output_type": "execute_result",
          "data": {
            "text/plain": [
              "float"
            ]
          },
          "metadata": {},
          "execution_count": 10
        }
      ]
    },
    {
      "cell_type": "code",
      "source": [
        "b='soni'\n",
        "\n",
        "type(b)\n"
      ],
      "metadata": {
        "colab": {
          "base_uri": "https://localhost:8080/"
        },
        "id": "lC6nnDAp6x_J",
        "outputId": "ba1daa9e-ce05-482e-e694-ad295b59514a"
      },
      "execution_count": 15,
      "outputs": [
        {
          "output_type": "execute_result",
          "data": {
            "text/plain": [
              "str"
            ]
          },
          "metadata": {},
          "execution_count": 15
        }
      ]
    },
    {
      "cell_type": "code",
      "source": [
        "a=10+2j\n",
        "type(a)"
      ],
      "metadata": {
        "colab": {
          "base_uri": "https://localhost:8080/"
        },
        "id": "tXwlPyI67PNe",
        "outputId": "27781239-85e2-44c0-ca76-de1f65b99e4f"
      },
      "execution_count": 11,
      "outputs": [
        {
          "output_type": "execute_result",
          "data": {
            "text/plain": [
              "complex"
            ]
          },
          "metadata": {},
          "execution_count": 11
        }
      ]
    },
    {
      "cell_type": "code",
      "source": [
        "a=True\n",
        "type(a)"
      ],
      "metadata": {
        "colab": {
          "base_uri": "https://localhost:8080/"
        },
        "id": "I5iowNoQ7Trb",
        "outputId": "d22a4bd7-3067-4c5e-d41c-3760f243f745"
      },
      "execution_count": 12,
      "outputs": [
        {
          "output_type": "execute_result",
          "data": {
            "text/plain": [
              "bool"
            ]
          },
          "metadata": {},
          "execution_count": 12
        }
      ]
    },
    {
      "cell_type": "code",
      "source": [
        "b"
      ],
      "metadata": {
        "colab": {
          "base_uri": "https://localhost:8080/",
          "height": 35
        },
        "id": "0lhwVJWr7hmX",
        "outputId": "5d688a79-3433-4a3b-bd89-8685c29ff2fe"
      },
      "execution_count": 13,
      "outputs": [
        {
          "output_type": "execute_result",
          "data": {
            "text/plain": [
              "'soni'"
            ],
            "application/vnd.google.colaboratory.intrinsic+json": {
              "type": "string"
            }
          },
          "metadata": {},
          "execution_count": 13
        }
      ]
    },
    {
      "cell_type": "code",
      "source": [
        "c=234"
      ],
      "metadata": {
        "id": "c4bkfoTz7afs"
      },
      "execution_count": 16,
      "outputs": []
    },
    {
      "cell_type": "code",
      "source": [
        "del(c)"
      ],
      "metadata": {
        "id": "KaR1dnVD7-Z6"
      },
      "execution_count": 17,
      "outputs": []
    },
    {
      "cell_type": "code",
      "source": [
        "c"
      ],
      "metadata": {
        "colab": {
          "base_uri": "https://localhost:8080/",
          "height": 176
        },
        "id": "XbPAWUT08IM_",
        "outputId": "c5d66f9d-e46d-47c9-f9f5-8ae52dba6316"
      },
      "execution_count": 18,
      "outputs": [
        {
          "output_type": "error",
          "ename": "NameError",
          "evalue": "ignored",
          "traceback": [
            "\u001b[0;31m---------------------------------------------------------------------------\u001b[0m",
            "\u001b[0;31mNameError\u001b[0m                                 Traceback (most recent call last)",
            "\u001b[0;32m<ipython-input-18-2b66fd261ee5>\u001b[0m in \u001b[0;36m<cell line: 1>\u001b[0;34m()\u001b[0m\n\u001b[0;32m----> 1\u001b[0;31m \u001b[0mc\u001b[0m\u001b[0;34m\u001b[0m\u001b[0;34m\u001b[0m\u001b[0m\n\u001b[0m",
            "\u001b[0;31mNameError\u001b[0m: name 'c' is not defined"
          ]
        }
      ]
    },
    {
      "cell_type": "markdown",
      "source": [
        "#assigning values to multiple variables"
      ],
      "metadata": {
        "id": "OLzptzzk8CFW"
      }
    },
    {
      "cell_type": "code",
      "source": [
        "a=b=c=25\n",
        "a\n",
        "b\n",
        "c"
      ],
      "metadata": {
        "colab": {
          "base_uri": "https://localhost:8080/"
        },
        "id": "rSRCMvpN8SjO",
        "outputId": "891859ac-f598-49b6-8141-a3864181fdf9"
      },
      "execution_count": 19,
      "outputs": [
        {
          "output_type": "execute_result",
          "data": {
            "text/plain": [
              "25"
            ]
          },
          "metadata": {},
          "execution_count": 19
        }
      ]
    },
    {
      "cell_type": "code",
      "source": [
        "#Assigning multiple values to multiple variables\n",
        "a,b,c=10,'soni',23+3j"
      ],
      "metadata": {
        "id": "Te4DJHe-8Yu-"
      },
      "execution_count": 20,
      "outputs": []
    },
    {
      "cell_type": "code",
      "source": [
        "type(a)\n"
      ],
      "metadata": {
        "colab": {
          "base_uri": "https://localhost:8080/"
        },
        "id": "-sdj8pl98vTq",
        "outputId": "d076474b-bce4-48e9-9876-cae776a2abc2"
      },
      "execution_count": 21,
      "outputs": [
        {
          "output_type": "execute_result",
          "data": {
            "text/plain": [
              "int"
            ]
          },
          "metadata": {},
          "execution_count": 21
        }
      ]
    },
    {
      "cell_type": "code",
      "source": [
        "type(b)"
      ],
      "metadata": {
        "colab": {
          "base_uri": "https://localhost:8080/"
        },
        "id": "wiEjATGS8xpy",
        "outputId": "b876f7f4-6eda-4cf5-f5f7-90164f9d9c1a"
      },
      "execution_count": 22,
      "outputs": [
        {
          "output_type": "execute_result",
          "data": {
            "text/plain": [
              "str"
            ]
          },
          "metadata": {},
          "execution_count": 22
        }
      ]
    },
    {
      "cell_type": "code",
      "source": [
        "type(c)"
      ],
      "metadata": {
        "colab": {
          "base_uri": "https://localhost:8080/"
        },
        "id": "vyVtRDBe85Yb",
        "outputId": "b53383a7-9c0c-4972-dfb3-d6fd85edd135"
      },
      "execution_count": 23,
      "outputs": [
        {
          "output_type": "execute_result",
          "data": {
            "text/plain": [
              "complex"
            ]
          },
          "metadata": {},
          "execution_count": 23
        }
      ]
    },
    {
      "cell_type": "code",
      "source": [
        "#print Statements\n",
        "a=10\n",
        "print(a)"
      ],
      "metadata": {
        "colab": {
          "base_uri": "https://localhost:8080/"
        },
        "id": "3ouHWclq9Ekg",
        "outputId": "51dc4903-890a-4d51-935e-20210c6999ed"
      },
      "execution_count": 24,
      "outputs": [
        {
          "output_type": "stream",
          "name": "stdout",
          "text": [
            "10\n"
          ]
        }
      ]
    },
    {
      "cell_type": "code",
      "source": [
        "print('Welcome to soni lab')"
      ],
      "metadata": {
        "colab": {
          "base_uri": "https://localhost:8080/"
        },
        "id": "LA6yagRO9SeI",
        "outputId": "c5d0f2a7-dc52-460c-b62c-3b040cf5486a"
      },
      "execution_count": 129,
      "outputs": [
        {
          "output_type": "stream",
          "name": "stdout",
          "text": [
            "Welcome to soni lab\n"
          ]
        }
      ]
    },
    {
      "cell_type": "code",
      "source": [
        "a=10\n",
        "a\n",
        "b=20\n",
        "b\n",
        "#because python is an interactive language"
      ],
      "metadata": {
        "colab": {
          "base_uri": "https://localhost:8080/"
        },
        "id": "ailDE1dl9XvU",
        "outputId": "2f9147ae-eb42-4496-835c-a436152465f3"
      },
      "execution_count": 27,
      "outputs": [
        {
          "output_type": "execute_result",
          "data": {
            "text/plain": [
              "20"
            ]
          },
          "metadata": {},
          "execution_count": 27
        }
      ]
    },
    {
      "cell_type": "code",
      "source": [
        "a=10\n",
        "print(a)\n",
        "b=20\n",
        "print(b)"
      ],
      "metadata": {
        "colab": {
          "base_uri": "https://localhost:8080/"
        },
        "id": "cY_BUJC59lFn",
        "outputId": "ed945cf9-bc90-4cf0-9983-0e3114ae6ccf"
      },
      "execution_count": 28,
      "outputs": [
        {
          "output_type": "stream",
          "name": "stdout",
          "text": [
            "10\n",
            "20\n"
          ]
        }
      ]
    },
    {
      "cell_type": "code",
      "source": [
        "print('hello','soni')"
      ],
      "metadata": {
        "colab": {
          "base_uri": "https://localhost:8080/"
        },
        "id": "LW2uPbuB9xCa",
        "outputId": "fafed6fe-8e77-40f2-8efa-e317655d6388"
      },
      "execution_count": 29,
      "outputs": [
        {
          "output_type": "stream",
          "name": "stdout",
          "text": [
            "hello soni\n"
          ]
        }
      ]
    },
    {
      "cell_type": "code",
      "source": [
        "print('hell')\n",
        "print('soni')"
      ],
      "metadata": {
        "colab": {
          "base_uri": "https://localhost:8080/"
        },
        "id": "7EOUwHto9_qN",
        "outputId": "b793ba6e-84a3-4377-e2d6-7ff0113f80a6"
      },
      "execution_count": 30,
      "outputs": [
        {
          "output_type": "stream",
          "name": "stdout",
          "text": [
            "hell\n",
            "soni\n"
          ]
        }
      ]
    },
    {
      "cell_type": "code",
      "source": [
        "print('hello',end=' ')\n",
        "print('soni')"
      ],
      "metadata": {
        "colab": {
          "base_uri": "https://localhost:8080/"
        },
        "id": "LijvAqVV-JNa",
        "outputId": "77b97e66-33a1-45e7-971f-9c59d1ff98bd"
      },
      "execution_count": 36,
      "outputs": [
        {
          "output_type": "stream",
          "name": "stdout",
          "text": [
            "hello soni\n"
          ]
        }
      ]
    },
    {
      "cell_type": "code",
      "source": [
        "print('hello',end='?')\n",
        "print('soni')"
      ],
      "metadata": {
        "colab": {
          "base_uri": "https://localhost:8080/"
        },
        "id": "5Pehieo5-oAD",
        "outputId": "937a06c9-8ec9-4e05-ead4-c36b3b597562"
      },
      "execution_count": 37,
      "outputs": [
        {
          "output_type": "stream",
          "name": "stdout",
          "text": [
            "hello?soni\n"
          ]
        }
      ]
    },
    {
      "cell_type": "code",
      "source": [
        "a=0x21\n",
        "print(a)\n",
        "type(a)\n"
      ],
      "metadata": {
        "colab": {
          "base_uri": "https://localhost:8080/"
        },
        "id": "QOMHojnd-3z-",
        "outputId": "cf3ad7ba-d35d-4c52-ec6e-e0ad634e219a"
      },
      "execution_count": 42,
      "outputs": [
        {
          "output_type": "stream",
          "name": "stdout",
          "text": [
            "33\n"
          ]
        },
        {
          "output_type": "execute_result",
          "data": {
            "text/plain": [
              "int"
            ]
          },
          "metadata": {},
          "execution_count": 42
        }
      ]
    },
    {
      "cell_type": "code",
      "source": [
        "hex(a)"
      ],
      "metadata": {
        "colab": {
          "base_uri": "https://localhost:8080/",
          "height": 35
        },
        "id": "Ev55pLKL_Dkd",
        "outputId": "0eee2ade-6ccf-4c5e-9971-8c7ae2f47176"
      },
      "execution_count": 44,
      "outputs": [
        {
          "output_type": "execute_result",
          "data": {
            "text/plain": [
              "'0x21'"
            ],
            "application/vnd.google.colaboratory.intrinsic+json": {
              "type": "string"
            }
          },
          "metadata": {},
          "execution_count": 44
        }
      ]
    },
    {
      "cell_type": "code",
      "source": [
        "#binary value\n",
        "a=0b0110\n",
        "print(a)"
      ],
      "metadata": {
        "colab": {
          "base_uri": "https://localhost:8080/"
        },
        "id": "o1QKgiEy_NHS",
        "outputId": "dc23a35a-faec-43f5-a1ef-531838e6e991"
      },
      "execution_count": 47,
      "outputs": [
        {
          "output_type": "stream",
          "name": "stdout",
          "text": [
            "6\n"
          ]
        }
      ]
    },
    {
      "cell_type": "code",
      "source": [
        "bin(a)"
      ],
      "metadata": {
        "colab": {
          "base_uri": "https://localhost:8080/",
          "height": 35
        },
        "id": "r81DGgkK_XBC",
        "outputId": "bfba7629-3922-4863-d1e8-bc9345070e84"
      },
      "execution_count": 46,
      "outputs": [
        {
          "output_type": "execute_result",
          "data": {
            "text/plain": [
              "'0b110'"
            ],
            "application/vnd.google.colaboratory.intrinsic+json": {
              "type": "string"
            }
          },
          "metadata": {},
          "execution_count": 46
        }
      ]
    },
    {
      "cell_type": "code",
      "source": [
        "a=0o010\n",
        "print(a)\n",
        "print(type(a))\n",
        "oct(a)\n",
        "\n"
      ],
      "metadata": {
        "colab": {
          "base_uri": "https://localhost:8080/",
          "height": 70
        },
        "id": "9fSJGGaI_l8_",
        "outputId": "0be3593a-e8bf-41e0-a0fb-649ed9c7b141"
      },
      "execution_count": 61,
      "outputs": [
        {
          "output_type": "stream",
          "name": "stdout",
          "text": [
            "8\n",
            "<class 'int'>\n"
          ]
        },
        {
          "output_type": "execute_result",
          "data": {
            "text/plain": [
              "'0o10'"
            ],
            "application/vnd.google.colaboratory.intrinsic+json": {
              "type": "string"
            }
          },
          "metadata": {},
          "execution_count": 61
        }
      ]
    },
    {
      "cell_type": "code",
      "source": [
        "a\n"
      ],
      "metadata": {
        "colab": {
          "base_uri": "https://localhost:8080/"
        },
        "id": "kG483syQ_xBz",
        "outputId": "4beff6d9-9043-4636-fa22-acb118e2da81"
      },
      "execution_count": 50,
      "outputs": [
        {
          "output_type": "execute_result",
          "data": {
            "text/plain": [
              "8"
            ]
          },
          "metadata": {},
          "execution_count": 50
        }
      ]
    },
    {
      "cell_type": "code",
      "source": [
        "a=3e7"
      ],
      "metadata": {
        "id": "aEzmXDOR_-YQ"
      },
      "execution_count": 52,
      "outputs": []
    },
    {
      "cell_type": "code",
      "source": [
        "print(a,type(a))"
      ],
      "metadata": {
        "colab": {
          "base_uri": "https://localhost:8080/"
        },
        "id": "fiK5DLVGABTG",
        "outputId": "cd386a80-01c3-47f2-e54c-b76654fc6d3f"
      },
      "execution_count": 53,
      "outputs": [
        {
          "output_type": "stream",
          "name": "stdout",
          "text": [
            "30000000.0 <class 'float'>\n"
          ]
        }
      ]
    },
    {
      "cell_type": "code",
      "source": [
        "a='hi'\n",
        "a*2"
      ],
      "metadata": {
        "colab": {
          "base_uri": "https://localhost:8080/",
          "height": 35
        },
        "id": "i7oVNNSOBdFv",
        "outputId": "b301708c-2b91-4260-f8ff-b125dc19c26b"
      },
      "execution_count": 56,
      "outputs": [
        {
          "output_type": "execute_result",
          "data": {
            "text/plain": [
              "'hihi'"
            ],
            "application/vnd.google.colaboratory.intrinsic+json": {
              "type": "string"
            }
          },
          "metadata": {},
          "execution_count": 56
        }
      ]
    },
    {
      "cell_type": "code",
      "source": [
        "a='hi'\n",
        "print(a+'3')"
      ],
      "metadata": {
        "colab": {
          "base_uri": "https://localhost:8080/",
          "height": 193
        },
        "id": "CFDBQ7uTBi16",
        "outputId": "e51e97d2-7d37-41ef-de22-911e248de549"
      },
      "execution_count": 57,
      "outputs": [
        {
          "output_type": "error",
          "ename": "TypeError",
          "evalue": "ignored",
          "traceback": [
            "\u001b[0;31m---------------------------------------------------------------------------\u001b[0m",
            "\u001b[0;31mTypeError\u001b[0m                                 Traceback (most recent call last)",
            "\u001b[0;32m<ipython-input-57-c242a9881ece>\u001b[0m in \u001b[0;36m<cell line: 2>\u001b[0;34m()\u001b[0m\n\u001b[1;32m      1\u001b[0m \u001b[0ma\u001b[0m\u001b[0;34m=\u001b[0m\u001b[0;34m'hi'\u001b[0m\u001b[0;34m\u001b[0m\u001b[0;34m\u001b[0m\u001b[0m\n\u001b[0;32m----> 2\u001b[0;31m \u001b[0mprint\u001b[0m\u001b[0;34m(\u001b[0m\u001b[0ma\u001b[0m\u001b[0;34m+\u001b[0m\u001b[0;36m3\u001b[0m\u001b[0;34m)\u001b[0m\u001b[0;34m\u001b[0m\u001b[0;34m\u001b[0m\u001b[0m\n\u001b[0m",
            "\u001b[0;31mTypeError\u001b[0m: can only concatenate str (not \"int\") to str"
          ]
        }
      ]
    },
    {
      "cell_type": "code",
      "source": [
        "a=\"soni\"\n",
        "print(a[0],a[-1])\n",
        "print(a[0],a[-4])\n"
      ],
      "metadata": {
        "colab": {
          "base_uri": "https://localhost:8080/"
        },
        "id": "bu0IhtHaCCZI",
        "outputId": "675b114a-d8fa-42ee-df42-af15e6289e81"
      },
      "execution_count": 59,
      "outputs": [
        {
          "output_type": "stream",
          "name": "stdout",
          "text": [
            "s i\n",
            "s s\n"
          ]
        }
      ]
    },
    {
      "cell_type": "code",
      "source": [
        "#strings are immutable\n",
        "a[0]='t'\n",
        "print(a)"
      ],
      "metadata": {
        "colab": {
          "base_uri": "https://localhost:8080/",
          "height": 193
        },
        "id": "fB4Ai4QODY-W",
        "outputId": "0a15c5f3-7e9f-4f37-9d4e-3df6760d0a08"
      },
      "execution_count": 60,
      "outputs": [
        {
          "output_type": "error",
          "ename": "TypeError",
          "evalue": "ignored",
          "traceback": [
            "\u001b[0;31m---------------------------------------------------------------------------\u001b[0m",
            "\u001b[0;31mTypeError\u001b[0m                                 Traceback (most recent call last)",
            "\u001b[0;32m<ipython-input-60-43a1cecfaa3b>\u001b[0m in \u001b[0;36m<cell line: 1>\u001b[0;34m()\u001b[0m\n\u001b[0;32m----> 1\u001b[0;31m \u001b[0ma\u001b[0m\u001b[0;34m[\u001b[0m\u001b[0;36m0\u001b[0m\u001b[0;34m]\u001b[0m\u001b[0;34m=\u001b[0m\u001b[0;34m't'\u001b[0m\u001b[0;34m\u001b[0m\u001b[0;34m\u001b[0m\u001b[0m\n\u001b[0m\u001b[1;32m      2\u001b[0m \u001b[0mprint\u001b[0m\u001b[0;34m(\u001b[0m\u001b[0ma\u001b[0m\u001b[0;34m)\u001b[0m\u001b[0;34m\u001b[0m\u001b[0;34m\u001b[0m\u001b[0m\n",
            "\u001b[0;31mTypeError\u001b[0m: 'str' object does not support item assignment"
          ]
        }
      ]
    },
    {
      "cell_type": "code",
      "source": [
        "a=\"hello\"\n",
        "print(a[1:3])\n",
        "print(a[:-2])\n",
        "print(a[-2:])\n",
        "print(a[:],a[:5],a[0:])\n",
        "print(a[::-1])#palindrome"
      ],
      "metadata": {
        "colab": {
          "base_uri": "https://localhost:8080/"
        },
        "id": "Q-ieK72ED4K0",
        "outputId": "b7fa4029-e946-42af-f72d-00cca9a1ee9e"
      },
      "execution_count": 69,
      "outputs": [
        {
          "output_type": "stream",
          "name": "stdout",
          "text": [
            "el\n",
            "hel\n",
            "lo\n",
            "hello hello hello\n",
            "olleh\n"
          ]
        }
      ]
    },
    {
      "cell_type": "code",
      "source": [
        "#list data type\n",
        "a=[1,2,10+2j,\"hello\",3,4]\n",
        "print(type(a))\n",
        "print(type(a[3]))\n",
        "print(a[0])\n",
        "print(a[:3])\n",
        "print(a[1:4])\n",
        "print(a[-1])\n",
        "print(a[:-3])\n",
        "print(a[::-1])\n",
        "print(a[0:-1:2])\n",
        "b=a\n",
        "print(a,b)#call by reference\n",
        "b=a.copy()#or list b=list(a)\n",
        "print(b)\n",
        "a[0]=\"soni\"\n",
        "print(a,b)"
      ],
      "metadata": {
        "colab": {
          "base_uri": "https://localhost:8080/"
        },
        "id": "Y7s6o12YGSIB",
        "outputId": "2f107ca9-6ef7-4399-e0a8-a9d4752efbeb"
      },
      "execution_count": 90,
      "outputs": [
        {
          "output_type": "stream",
          "name": "stdout",
          "text": [
            "<class 'list'>\n",
            "<class 'str'>\n",
            "1\n",
            "[1, 2, (10+2j)]\n",
            "[2, (10+2j), 'hello']\n",
            "4\n",
            "[1, 2, (10+2j)]\n",
            "[4, 3, 'hello', (10+2j), 2, 1]\n",
            "[1, (10+2j), 3]\n",
            "[1, 2, (10+2j), 'hello', 3, 4] [1, 2, (10+2j), 'hello', 3, 4]\n",
            "[1, 2, (10+2j), 'hello', 3, 4]\n",
            "['soni', 2, (10+2j), 'hello', 3, 4] [1, 2, (10+2j), 'hello', 3, 4]\n"
          ]
        }
      ]
    },
    {
      "cell_type": "code",
      "source": [
        "#tuple 3)\n",
        "a=(1,2,3)\n",
        "print(a,type(a))"
      ],
      "metadata": {
        "colab": {
          "base_uri": "https://localhost:8080/"
        },
        "id": "n5TT4SBVKU8Q",
        "outputId": "0a3e7504-d3d4-4438-a8fe-dbc4422048b4"
      },
      "execution_count": 91,
      "outputs": [
        {
          "output_type": "stream",
          "name": "stdout",
          "text": [
            "(1, 2, 3) <class 'tuple'>\n"
          ]
        }
      ]
    },
    {
      "cell_type": "code",
      "source": [
        "a=(1,2,3)\n",
        "a[0]=12\n",
        "print(a)\n",
        "\n"
      ],
      "metadata": {
        "colab": {
          "base_uri": "https://localhost:8080/",
          "height": 228
        },
        "id": "e9_OHhE3Km7s",
        "outputId": "ef247d22-4bd0-42e4-af91-ae3154dd10e7"
      },
      "execution_count": 94,
      "outputs": [
        {
          "output_type": "error",
          "ename": "TypeError",
          "evalue": "ignored",
          "traceback": [
            "\u001b[0;31m---------------------------------------------------------------------------\u001b[0m",
            "\u001b[0;31mTypeError\u001b[0m                                 Traceback (most recent call last)",
            "\u001b[0;32m<ipython-input-94-2e35ca89e92c>\u001b[0m in \u001b[0;36m<cell line: 2>\u001b[0;34m()\u001b[0m\n\u001b[1;32m      1\u001b[0m \u001b[0ma\u001b[0m\u001b[0;34m=\u001b[0m\u001b[0;34m(\u001b[0m\u001b[0;36m1\u001b[0m\u001b[0;34m,\u001b[0m\u001b[0;36m2\u001b[0m\u001b[0;34m,\u001b[0m\u001b[0;36m3\u001b[0m\u001b[0;34m)\u001b[0m\u001b[0;34m\u001b[0m\u001b[0;34m\u001b[0m\u001b[0m\n\u001b[0;32m----> 2\u001b[0;31m \u001b[0ma\u001b[0m\u001b[0;34m[\u001b[0m\u001b[0;36m0\u001b[0m\u001b[0;34m]\u001b[0m\u001b[0;34m=\u001b[0m\u001b[0;36m12\u001b[0m\u001b[0;34m\u001b[0m\u001b[0;34m\u001b[0m\u001b[0m\n\u001b[0m\u001b[1;32m      3\u001b[0m \u001b[0mprint\u001b[0m\u001b[0;34m(\u001b[0m\u001b[0ma\u001b[0m\u001b[0;34m)\u001b[0m\u001b[0;34m\u001b[0m\u001b[0;34m\u001b[0m\u001b[0m\n\u001b[1;32m      4\u001b[0m \u001b[0;34m\u001b[0m\u001b[0m\n",
            "\u001b[0;31mTypeError\u001b[0m: 'tuple' object does not support item assignment"
          ]
        }
      ]
    },
    {
      "cell_type": "code",
      "source": [
        "a=(1,2,3)\n",
        "b=list(a)\n",
        "b[0]=12\n",
        "print(a,b)"
      ],
      "metadata": {
        "colab": {
          "base_uri": "https://localhost:8080/"
        },
        "id": "buDPt2knLHsH",
        "outputId": "3e16142c-08dd-4926-9ef7-a1993a3bbae0"
      },
      "execution_count": 97,
      "outputs": [
        {
          "output_type": "stream",
          "name": "stdout",
          "text": [
            "(1, 2, 3) [12, 2, 3]\n"
          ]
        }
      ]
    },
    {
      "cell_type": "code",
      "source": [
        "a=[1,2,3,4,5]\n",
        "b=tuple(a)\n",
        "print(a,b)"
      ],
      "metadata": {
        "colab": {
          "base_uri": "https://localhost:8080/"
        },
        "id": "eQhH33FsK1Hp",
        "outputId": "db9256bf-952e-4f97-bcab-613849745721"
      },
      "execution_count": 98,
      "outputs": [
        {
          "output_type": "stream",
          "name": "stdout",
          "text": [
            "[1, 2, 3, 4, 5] (1, 2, 3, 4, 5)\n"
          ]
        }
      ]
    },
    {
      "cell_type": "code",
      "source": [
        "a=(1,2,3,4,5,6)\n",
        "print(a[0])\n",
        "print(a[0:-1])\n",
        "print(a[0::2])\n",
        "print(a[5::-1])"
      ],
      "metadata": {
        "colab": {
          "base_uri": "https://localhost:8080/"
        },
        "id": "GCaqV7q1LhMY",
        "outputId": "b7e32273-955f-4ad6-ea55-eddbdf6cc29e"
      },
      "execution_count": 106,
      "outputs": [
        {
          "output_type": "stream",
          "name": "stdout",
          "text": [
            "1\n",
            "(1, 2, 3, 4, 5)\n",
            "(1, 3, 5)\n",
            "(6, 5, 4, 3, 2, 1)\n"
          ]
        }
      ]
    },
    {
      "cell_type": "markdown",
      "source": [
        "#List\n",
        "1.square bracket\n",
        "\n",
        "2.index accessability\n",
        "\n",
        "3.mutalble\n",
        "#tuple\n",
        "1.paranthesis\n",
        "\n",
        "2.index accessability\n",
        "\n",
        "3.immutalble"
      ],
      "metadata": {
        "id": "PjVxRvloO2bQ"
      }
    },
    {
      "cell_type": "markdown",
      "source": [
        "#dict"
      ],
      "metadata": {
        "id": "olaWrXxjVUME"
      }
    },
    {
      "cell_type": "code",
      "source": [
        "#dictionaries\n",
        "#collection of elements\n",
        "#dict is key value pairs\n",
        "a={'abc':[1,2,3],1:\"hi\"}\n",
        "print(type(a))\n",
        "print(a)\n",
        "print(a['abc'])\n",
        "print(a[1])\n",
        "type(a)"
      ],
      "metadata": {
        "id": "gwaSfplbPF-H",
        "outputId": "926428bd-2224-42d6-b95d-61d29d996bfe",
        "colab": {
          "base_uri": "https://localhost:8080/"
        }
      },
      "execution_count": 112,
      "outputs": [
        {
          "output_type": "stream",
          "name": "stdout",
          "text": [
            "<class 'dict'>\n",
            "{'abc': [1, 2, 3], 1: 'hi'}\n",
            "[1, 2, 3]\n",
            "hi\n"
          ]
        },
        {
          "output_type": "execute_result",
          "data": {
            "text/plain": [
              "dict"
            ]
          },
          "metadata": {},
          "execution_count": 112
        }
      ]
    },
    {
      "cell_type": "code",
      "source": [
        "a={}\n",
        "a[1]='hell'\n",
        "print(a)\n",
        "a[1]=\"hi\"\n",
        "print(a)"
      ],
      "metadata": {
        "id": "87Qw10NbQSVk",
        "outputId": "d4bc977e-aab3-4ba0-a46d-8a808501f0e0",
        "colab": {
          "base_uri": "https://localhost:8080/"
        }
      },
      "execution_count": 122,
      "outputs": [
        {
          "output_type": "stream",
          "name": "stdout",
          "text": [
            "{1: 'hell'}\n",
            "{1: 'hi'}\n"
          ]
        }
      ]
    },
    {
      "cell_type": "code",
      "source": [
        "a={1:'hi'}\n",
        "a['1']=\"soni\"\n",
        "print(a)"
      ],
      "metadata": {
        "id": "EN5d0QjPRElu",
        "outputId": "2bbead39-9462-41b8-9919-394d0b2d26ec",
        "colab": {
          "base_uri": "https://localhost:8080/"
        }
      },
      "execution_count": 127,
      "outputs": [
        {
          "output_type": "stream",
          "name": "stdout",
          "text": [
            "{1: 'hi', '1': 'soni'}\n"
          ]
        }
      ]
    },
    {
      "cell_type": "code",
      "source": [
        "a={1:'hi',1:'hell'}\n",
        "print(a)"
      ],
      "metadata": {
        "id": "Y3TDCuhiRv1y",
        "outputId": "c9dee888-7262-4c73-e58a-ff3f59d7b924",
        "colab": {
          "base_uri": "https://localhost:8080/"
        }
      },
      "execution_count": 130,
      "outputs": [
        {
          "output_type": "stream",
          "name": "stdout",
          "text": [
            "{1: 'hell'}\n"
          ]
        }
      ]
    },
    {
      "cell_type": "markdown",
      "source": [
        "#sets"
      ],
      "metadata": {
        "id": "l1r1opgcVQtJ"
      }
    },
    {
      "cell_type": "code",
      "source": [
        "#sets are unordered collections\n",
        "a={'a','b','c'}\n",
        "a.add(10)\n",
        "print(a)\n",
        "type(a)\n",
        "\n"
      ],
      "metadata": {
        "id": "TiOEIEPAUDAJ",
        "outputId": "466d5dde-d353-4f4c-d4a5-b9619db9f7d7",
        "colab": {
          "base_uri": "https://localhost:8080/"
        }
      },
      "execution_count": 141,
      "outputs": [
        {
          "output_type": "stream",
          "name": "stdout",
          "text": [
            "{'c', 10, 'b', 'a'}\n"
          ]
        },
        {
          "output_type": "execute_result",
          "data": {
            "text/plain": [
              "set"
            ]
          },
          "metadata": {},
          "execution_count": 141
        }
      ]
    },
    {
      "cell_type": "code",
      "source": [
        "a=range(2,10)\n",
        "print(a)\n",
        "print(type(a))"
      ],
      "metadata": {
        "id": "bwXoy8BGU4Nx",
        "outputId": "ea7e7169-f0aa-4aa1-c899-d051d7048bd6",
        "colab": {
          "base_uri": "https://localhost:8080/"
        }
      },
      "execution_count": 145,
      "outputs": [
        {
          "output_type": "stream",
          "name": "stdout",
          "text": [
            "range(2, 10)\n",
            "<class 'range'>\n"
          ]
        }
      ]
    },
    {
      "cell_type": "code",
      "source": [
        "a='sonii'\n",
        "print(type(a))"
      ],
      "metadata": {
        "id": "JPeF9RCnVcRM",
        "outputId": "b9df9e20-3fd5-4816-a460-d2ebe2828062",
        "colab": {
          "base_uri": "https://localhost:8080/"
        }
      },
      "execution_count": 160,
      "outputs": [
        {
          "output_type": "stream",
          "name": "stdout",
          "text": [
            "<class 'str'>\n"
          ]
        }
      ]
    },
    {
      "cell_type": "code",
      "source": [
        "b=a.encode('utf-8')\n",
        "print(type(b))\n",
        "print(a,b)\n",
        "print(a[0],b[0])\n",
        "print(a[1],b[1])\n",
        "print(a[2],b[2])\n",
        "print(a[3],b[3])\n",
        "print(a[4],b[4])"
      ],
      "metadata": {
        "id": "05Z7dK8fVlAl",
        "outputId": "c246d64f-23e4-4c22-feea-9c6146584ba2",
        "colab": {
          "base_uri": "https://localhost:8080/"
        }
      },
      "execution_count": 161,
      "outputs": [
        {
          "output_type": "stream",
          "name": "stdout",
          "text": [
            "<class 'bytes'>\n",
            "sonii b'sonii'\n",
            "s 115\n",
            "o 111\n",
            "n 110\n",
            "i 105\n",
            "i 105\n"
          ]
        }
      ]
    }
  ]
}